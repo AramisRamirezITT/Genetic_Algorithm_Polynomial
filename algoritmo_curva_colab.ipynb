{
  "cells": [
    {
      "cell_type": "markdown",
      "metadata": {
        "id": "view-in-github",
        "colab_type": "text"
      },
      "source": [
        "<a href=\"https://colab.research.google.com/github/AramisRamirezITT/Genetic_Algorithm_Polynomial/blob/main/algoritmo_curva_colab.ipynb\" target=\"_parent\"><img src=\"https://colab.research.google.com/assets/colab-badge.svg\" alt=\"Open In Colab\"/></a>"
      ]
    },
    {
      "cell_type": "markdown",
      "metadata": {
        "id": "t-LDrr7WGt94"
      },
      "source": [
        "# Algoritmo Genetico de Optimizacion de curvas"
      ]
    },
    {
      "cell_type": "code",
      "execution_count": 20,
      "metadata": {
        "colab": {
          "base_uri": "https://localhost:8080/"
        },
        "id": "RwSLFOysGt97",
        "outputId": "2e941fec-cc9a-494f-c870-6486f02ca5cf"
      },
      "outputs": [
        {
          "output_type": "stream",
          "name": "stdout",
          "text": [
            "NVIDIA-SMI has failed because it couldn't communicate with the NVIDIA driver. Make sure that the latest NVIDIA driver is installed and running.\n",
            "\n"
          ]
        }
      ],
      "source": [
        "__author__ = [\"J.L Aramis Ramirez Diaz\"]\n",
        "__credits__ = [\"J.L Aramis Ramirez Diaz\", \"Dr. Marco Antonio Paz Ramos\"]\n",
        "__license__ = \"MIT\"\n",
        "__version__ = \"1.0.0\"\n",
        "__maintainer__ = [\"J.L Aramis Ramirez Diaz\"]\n",
        "__email__ = \"jdiaz@uag.edu.mx\"\n",
        "__status__ = \"Development\"\n",
        "\n",
        "import numpy as np\n",
        "import pandas as pd\n",
        "import matplotlib.pyplot as plt\n",
        "from IPython.display import display, clear_output\n",
        "from numba import jit, cuda\n",
        "\n",
        "! nvidia-smi"
      ]
    },
    {
      "cell_type": "markdown",
      "metadata": {
        "id": "7yXn2ntTGt9-"
      },
      "source": [
        "## Original Function"
      ]
    },
    {
      "cell_type": "code",
      "execution_count": 21,
      "metadata": {
        "colab": {
          "base_uri": "https://localhost:8080/",
          "height": 265
        },
        "id": "S1CpK0TpGt9-",
        "outputId": "1c37bfe9-59ad-4097-ac81-6f38335fef76"
      },
      "outputs": [
        {
          "output_type": "display_data",
          "data": {
            "text/plain": [
              "<Figure size 432x288 with 1 Axes>"
            ],
            "image/png": "[encoded data removed]"
          },
          "metadata": {
            "needs_background": "light"
          }
        }
      ],
      "source": [
        "mod = [8, 25, 4, 45, 10, 17, 35]\n",
        "\n",
        "x = np.arange(0, 100, 1)  # crea un array de valores de x de 0 a 100 en incrementos de 0.1\n",
        "y = mod[0] * (mod[1] * np.sin(x / mod[2]) + mod[3] * np.cos(x / mod[4])) + mod[5] * x - mod[6]\n",
        "\n",
        "plt.plot(x, y)\n",
        "plt.grid( linestyle='dotted', linewidth=1)\n",
        "plt.show() \n"
      ]
    },
    {
      "cell_type": "markdown",
      "metadata": {
        "id": "LSPJe_9GGt9_"
      },
      "source": [
        "## Declaracion de la matriz de numeros aleatorios entre 1 y 20 de MxN donde M = 100, N = 20"
      ]
    },
    {
      "cell_type": "code",
      "execution_count": 22,
      "metadata": {
        "id": "RfCJ5KEjGt9_"
      },
      "outputs": [],
      "source": [
        "# #MxN = Fila x Columna\n",
        "matrix = np.empty((100, 7), dtype=int) # Matriz de \n",
        "\n",
        "\n",
        "for i in range(matrix.shape[0]):\n",
        "    matrix[i] = np.random.choice(range(1, 255), size=7, replace=False)\n",
        "\n",
        "matrix_children = np.zeros((100, 20)) # Matriz de \n",
        "matrix_gen = np.zeros((100, 20)) # Matriz de \n",
        "\n",
        "\n"
      ]
    },
    {
      "cell_type": "markdown",
      "metadata": {
        "id": "P1tGX1j3Gt-A"
      },
      "source": [
        "## Etiqueta de Cromosomas - Funcion para calcular el error absoluto punto a punto"
      ]
    },
    {
      "cell_type": "code",
      "execution_count": 23,
      "metadata": {
        "id": "SqG89rU7Gt-B"
      },
      "outputs": [],
      "source": [
        "def error_abs(mod_o, matrix):\n",
        "    peso = int(255/max(mod))\n",
        "    x = np.arange(0, 100, 1)\n",
        "    vector_resul = np.zeros((matrix.shape[0], 1), dtype=int)\n",
        "    \n",
        "    y = mod_o[0] * (mod_o[1] * np.sin(x / mod_o[2]) + mod_o[3] * np.cos(x / mod_o[4])) + mod_o[5] * x - mod_o[6] \n",
        "    \n",
        "    for i in range(0, matrix.shape[0]):\n",
        "        resul = (matrix[i][0] / peso)* ( (matrix[i][1] / peso) * np.sin(x / (matrix[i][2]/ peso)) + (matrix[i][3] / peso) * np.cos(x / (matrix[i][4]/ peso))) + (matrix[i][5] / peso)* x - (matrix[i][6] / peso)       \n",
        "        \n",
        "        vector_resul[i] = np.sum(np.absolute(y - resul)) \n",
        "        \n",
        "    matrix_plus_result = np.hstack((matrix, vector_resul)) # pegar el vector y la matriz\n",
        "    \n",
        "    return matrix_plus_result\n",
        "\n",
        "# mod = [8, 25, 4, 45, 10, 17, 35]\n",
        "\n",
        "# matrix_plus_result= error_abs(mod, matrix)\n",
        "\n",
        "# print(matrix_plus_result)\n"
      ]
    },
    {
      "cell_type": "markdown",
      "metadata": {
        "id": "ewKRdSQ0Gt-B"
      },
      "source": [
        "## Reproduccion"
      ]
    },
    {
      "cell_type": "code",
      "execution_count": 24,
      "metadata": {
        "colab": {
          "base_uri": "https://localhost:8080/"
        },
        "id": "C4aFmnfyGt-C",
        "outputId": "71fa134c-8c60-49f9-a026-336c82514e98"
      },
      "outputs": [
        {
          "output_type": "stream",
          "name": "stdout",
          "text": [
            "[19 28 36 29  6  9 25]\n",
            "[ 4 44 50 34 22  6 49]\n",
            "----------------------------------------------------------------------------------------------------\n",
            "[19 28 36 29  6  9 49]\n",
            "[ 4 44 50 34 22  6 25]\n"
          ]
        }
      ],
      "source": [
        "#8, 16, 24, 32, 40, 48, 56\n",
        "#\n",
        "def reproduccion(array_pa, array_ma):\n",
        "    get_bin = lambda x, n: format(x, 'b').zfill(n)    \n",
        "    array_pa_edit = array_pa.copy()\n",
        "    array_ma_edit = array_ma.copy()\n",
        "    crop = np.random.randint(1, (len(array_pa_edit) * 8) - 1 )\n",
        "    # crop = 32\n",
        "    # print(crop)\n",
        "    a = int(crop / 8)\n",
        "    # print(a)\n",
        "    index = a + 1\n",
        "    \n",
        "    if index >= 7:\n",
        "        index = 6 \n",
        "    resul = crop - a * 8\n",
        "    if resul == 0:        \n",
        "        index = a\n",
        "    else:\n",
        "        to_bin_pa = get_bin(array_pa_edit[a], 8) #str\n",
        "        to_bin_ma = get_bin(array_ma_edit[a], 8) #str    \n",
        "        pa_1 = to_bin_pa[:resul]\n",
        "        pa_2 = to_bin_pa[resul:]\n",
        "        ma_1 = to_bin_ma[:resul]\n",
        "        ma_2 =  to_bin_ma[resul:]\n",
        "        copy_papa = pa_1 + ma_2\n",
        "        copy_mama = ma_1 + pa_2        \n",
        "        \n",
        "        copy_papa = int(copy_papa, 2)\n",
        "        copy_mama = int(copy_mama, 2)        \n",
        "        \n",
        "        # print(copy_papa,int(copy_papa, 2) ,'pa')\n",
        "        # print(copy_mama,int(copy_mama, 2) ,'ma')\n",
        "        # print('-'*100)\n",
        "        \n",
        "        if copy_papa ==  0:\n",
        "            copy_papa = 1\n",
        "        elif copy_mama ==  0:\n",
        "            copy_mama = 1\n",
        "          \n",
        "          \n",
        "        array_pa_edit[a] = copy_mama\n",
        "        array_ma_edit[a] = copy_papa\n",
        "        \n",
        "    # print(array_pa_edit[index:])\n",
        "    # print(array_ma_edit[index:])\n",
        "    aux = array_pa_edit[index:].copy()\n",
        "    array_pa_edit[index:] =  array_ma_edit[index:].copy()\n",
        "    array_ma_edit[index:] = aux\n",
        "\n",
        "    # print(array_pa_edit)\n",
        "    # print(array_ma_edit)\n",
        "    # print('-'*100) \n",
        "    # print('-'*100) \n",
        "    return array_pa_edit, array_ma_edit\n",
        "            \n",
        "papa = np.array([19, 28, 36, 29,  6,  9, 49])\n",
        "mama = np.array([ 4, 44, 50, 34, 22,  6, 25])\n",
        "\n",
        "papa_edit, mama_edit =reproduccion(papa, mama)\n",
        "\n",
        "print(papa_edit)\n",
        "print(mama_edit)\n",
        "print('-'*100)    \n",
        "print(papa)\n",
        "print(mama)\n"
      ]
    },
    {
      "cell_type": "markdown",
      "metadata": {
        "id": "Pm7KOmbsGt-D"
      },
      "source": [
        "## Mutacion "
      ]
    },
    {
      "cell_type": "code",
      "execution_count": 25,
      "metadata": {
        "id": "SllMmvwkGt-D"
      },
      "outputs": [],
      "source": [
        "def mutation(matrix, porcentaje_mutacion):\n",
        "    get_bin = lambda x, n: format(x, 'b').zfill(n)    \n",
        "    porcentaje_mutacion\n",
        "    part  = int((matrix.shape[0] * porcentaje_mutacion) / 100)    \n",
        "    matrixx = matrix.copy()\n",
        "    \n",
        "    for i in range(0, part):         \n",
        "        random_colum = np.random.randint(0, 7)\n",
        "        random_bit = np.random.randint(0, 8)\n",
        "        dec_to_bin = get_bin(matrixx[i][random_colum], 8) #str\n",
        "        dec_to_bin = list(dec_to_bin)\n",
        "        \n",
        "        if dec_to_bin[random_bit] == '0':\n",
        "            dec_to_bin[random_bit] = '1'\n",
        "        else:\n",
        "            dec_to_bin[random_bit] = '0'     \n",
        "        dec_to_bin = ''.join(dec_to_bin)\n",
        "        \n",
        "        val_int =  int(dec_to_bin, 2)         \n",
        "        \n",
        "        if val_int == 0:\n",
        "            val_int = 1\n",
        "\n",
        "        matrixx[i][random_colum] =  val_int    \n",
        "    return matrixx\n"
      ]
    },
    {
      "cell_type": "markdown",
      "metadata": {
        "id": "74RkQj4bGt-E"
      },
      "source": [
        "## Elitismo"
      ]
    },
    {
      "cell_type": "code",
      "execution_count": 26,
      "metadata": {
        "id": "qKS8gdUjGt-E"
      },
      "outputs": [],
      "source": [
        "def elite(matrix, matrix_plus_result):\n",
        "    # print(matrix.shape[0] + matrix_plus_result.shape[0])\n",
        "    matrix_elite = np.zeros((matrix.shape[0] + matrix_plus_result.shape[0], matrix_plus_result.shape[1]), dtype=int ) \n",
        "    matrix_elite[:matrix.shape[0],:] = matrix[:matrix.shape[0],:]\n",
        "    matrix_elite[matrix.shape[0]:,:] = matrix_plus_result[:matrix.shape[0],:]\n",
        "    \n",
        "    matrix_elite = matrix_elite[matrix_elite[:, 7].argsort()]\n",
        "    matrix_elite = matrix_elite[:100, :]    \n",
        "    # print(matrix_elite.shape)    \n",
        "    return matrix_elite[:matrix.shape[0],:8]\n",
        "    \n",
        "    \n",
        "# mod = [8, 25, 4, 45, 10, 17, 35]\n",
        "# zzzz = elite(matrix,  error_abs(mod, matrix))\n",
        "# print(zzzz.shape)"
      ]
    },
    {
      "cell_type": "markdown",
      "metadata": {
        "id": "licZWsNlGt-E"
      },
      "source": [
        "## Torneo"
      ]
    },
    {
      "cell_type": "code",
      "execution_count": 27,
      "metadata": {
        "id": "Aookx7ZCGt-E"
      },
      "outputs": [],
      "source": [
        "# 2 modos \n",
        "# Minimo 2 - Max 50% \n",
        "def tournament(matrix_plus_result, porcentaje_torneo):\n",
        "    matrix_children = np.zeros((matrix_plus_result.shape[0], matrix_plus_result.shape[1] - 1), dtype=int)\n",
        "    filas = matrix_plus_result.shape[0]\n",
        "    list_tournament = [[[], []], [[], []]]    \n",
        "    cont = 0\n",
        "    # for fila in range(0, 15): #filas\n",
        "    for fila in range(0, int(filas/2)): #filas\n",
        "        for k in range(0, 2):\n",
        "            # for i in range(0, np.random.randint(1, int(filas/2))):\n",
        "            for i in range(0, np.random.randint(1, int((matrix.shape[0] * porcentaje_torneo) / 100) )):\n",
        "                \n",
        "                random_num = np.random.randint(0, filas)               \n",
        "                list_tournament[k][0].append(matrix_plus_result[random_num, 7].copy())\n",
        "                list_tournament[k][1].append(random_num)                          \n",
        "        \n",
        "        winner_p = min(list_tournament[0][0])            \n",
        "        index_p  = list_tournament[0][1][list_tournament[0][0].index(winner_p)]    \n",
        "        \n",
        "        winner_m = min(list_tournament[1][0])            \n",
        "        index_m  = list_tournament[1][1][list_tournament[1][0].index(winner_m)]                \n",
        "        # print('Winer papa', winner_p)            \n",
        "        # print(matrix[index_p, :])                        \n",
        "        # print('Winer mama', winner_m)            \n",
        "        # print(matrix[index_m, :])                        \n",
        "        # print('-'*100)        \n",
        "        papa_edit, mama_edit = reproduccion(matrix_plus_result[index_p, :7].copy(), matrix_plus_result[index_m, :7].copy())\n",
        "        matrix_children[cont + fila] = papa_edit\n",
        "        matrix_children[cont + fila + 1] = mama_edit\n",
        "        # print(cont + fila, cont + fila + 1)\n",
        "        cont+= 1\n",
        "\n",
        "    return matrix_children\n",
        "        \n",
        "         \n",
        "# kkk = tournament(error_abs(mod, matrix), 5)\n",
        "\n",
        "# # print(kkk[kkk.shape[0] - 1, :])\n",
        "# print(kkk)\n",
        "      \n"
      ]
    },
    {
      "cell_type": "markdown",
      "metadata": {
        "id": "P7YDI6hHGt-F"
      },
      "source": [
        "## Graficacion"
      ]
    },
    {
      "cell_type": "code",
      "execution_count": 28,
      "metadata": {
        "id": "abzjcum0Gt-F"
      },
      "outputs": [],
      "source": [
        "\n",
        "def graficar(mod, iteracion, vec_min,  x_d ,dist_min_x_gen ,dist_min):\n",
        "    peso = int(255/max(mod))\n",
        "    fig, axs = plt.subplots(1, 2, figsize=(10, 5))\n",
        "    \n",
        "    x = np.arange(0, 100, 1)  # crea un array de valores de x de 0 a 100 en incrementos de 0.1\n",
        "    y = mod[0] * (mod[1] * np.sin(x / mod[2]) + mod[3] * np.cos(x / mod[4])) + mod[5] * x - mod[6]\n",
        "    # y1 = vec_min[0] * (vec_min[1] * np.sin(x / vec_min[2]) + vec_min[3] * np.cos(x / vec_min[4])) + vec_min[5] * x - vec_min[6]\n",
        "    y1 = (vec_min[0] / peso)* ( (vec_min[1] / peso) * np.sin(x / (vec_min[2]/ peso)) + (vec_min[3] / peso) * np.cos(x / (vec_min[4]/ peso))) + (vec_min[5] / peso)* x - (vec_min[6] / peso)       \n",
        "\n",
        "\n",
        "    axs[0].grid( linestyle='dotted', linewidth=1)\n",
        "    axs[0].plot(x, y)\n",
        "    axs[0].plot(x, y1)\n",
        "    axs[0].set_title(f'Mejor Polinomio: {np.array(vec_min[0:6] / peso , dtype=int)}' , fontsize=10)\n",
        "    \n",
        "    axs[1].grid( linestyle='dotted', linewidth=1)\n",
        "    axs[1].plot(np.array(x_d), np.array(dist_min_x_gen))\n",
        "    axs[1].set_title(f'Distancia actual: {dist_min}' , fontsize=10)\n",
        "    \n",
        "    fig.suptitle(f'Algortimo Genetico - Polinomio - Generacion:{iteracion + 1}',  fontsize=14, y=0.98)\n",
        "    fig.tight_layout()\n",
        "    \n",
        "    display(fig)\n",
        "    clear_output(wait = True)\n",
        "    plt.pause(0.01)"
      ]
    },
    {
      "cell_type": "code",
      "execution_count": 29,
      "metadata": {
        "id": "JpQm03S9Gt-F"
      },
      "outputs": [],
      "source": [
        "def plot_bestGen(mod, vec_min, best_gen):\n",
        " \n",
        "  peso = int(255/max(mod))\n",
        "  x = np.arange(0, 100, 1)  # crea un array de valores de x de 0 a 100 en incrementos de 0.1\n",
        "  y = mod[0] * (mod[1] * np.sin(x / mod[2]) + mod[3] * np.cos(x / mod[4])) + mod[5] * x - mod[6]\n",
        "  y1 = (vec_min[0] / peso)* ( (vec_min[1] / peso) * np.sin(x / (vec_min[2]/ peso)) + (vec_min[3] / peso) * np.cos(x / (vec_min[4]/ peso))) + (vec_min[5] / peso)* x - (vec_min[6] / peso)       \n",
        "\n",
        "  plt.plot(x, y)\n",
        "  plt.plot(x, y1)\n",
        "  plt.grid( linestyle='dotted', linewidth=1)\n",
        "  plt.title(f'Generacion Mejor Polinomio:{best_gen}')\n",
        "  plt.show() \n"
      ]
    },
    {
      "cell_type": "markdown",
      "metadata": {
        "id": "IgvS433YGt-F"
      },
      "source": [
        "# Run"
      ]
    },
    {
      "cell_type": "code",
      "execution_count": 30,
      "metadata": {
        "id": "xw3P7e7TGt-F"
      },
      "outputs": [],
      "source": [
        "def run(iteraciones, renglones, mod, porcentaje_torneo, porcentaje_mutacion, elit, grafic):    \n",
        "    x = np.arange(0, 100, 1)  # crea un array de valores de x de 0 a 100 en incrementos de 0.1\n",
        "    y = mod[0] * (mod[1] * np.sin(x / mod[2]) + mod[3] * np.cos(x / mod[4])) + mod[5] * x - mod[6]\n",
        "    dist_min_x_gen = []\n",
        "    x_d = []\n",
        "    \n",
        "    # matrix = np.zeros((renglones, len(mod)), dtype=int) \n",
        "    # maximus = int(255 / int(255/max(mod)))    \n",
        "    \n",
        "    # for i in range(matrix.shape[0]):\n",
        "    #     matrix[i] = np.random.choice(range(1, maximus), size=len(mod), replace=False)\n",
        "\n",
        "    matrix = np.zeros((renglones, len(mod)), dtype=int) # Matriz de \n",
        "\n",
        "    for i in range(matrix.shape[0]):\n",
        "        matrix[i] = np.random.choice(range(1, 255), size=7, replace=False)\n",
        "\n",
        "    \n",
        "#------------------------------------------------------------------------------------------------------------------------\n",
        "    for iteracion in range(0, iteraciones):\n",
        "        if elit == True:        \n",
        "            matrix = mutation(matrix, porcentaje_mutacion) #mutacion \n",
        "            matrix_plus_result = error_abs(mod, matrix) # Matrix + Etiqueta || (renglones, 8)\n",
        "            matrix_children = tournament(matrix_plus_result, porcentaje_torneo) # (renglones, 7)        \n",
        "            matrix_children = error_abs(mod, matrix_children) # Matriz etiquetada            \n",
        "            matrix_generation = elite(matrix_children, matrix_plus_result) \n",
        "            matrix =  matrix_generation[: , 0: len(mod)]\n",
        "        \n",
        "        else:\n",
        "            matrix = mutation(matrix, porcentaje_mutacion) #mutacion \n",
        "            matrix_plus_result = error_abs(mod, matrix) # Matrix + Etiqueta || (renglones, 8)\n",
        "            matrix_children = tournament(matrix_plus_result, porcentaje_torneo) # (renglones, 7)        \n",
        "            matrix_children = error_abs(mod, matrix_children) # Matriz etiquetada    \n",
        "            matrix = matrix_children[:, :len(mod)].copy()\n",
        "            \n",
        "        dist_min = min(matrix_children[:,7])   \n",
        "        dist_min_x_gen.append(dist_min)        \n",
        "        x_d.append(iteracion)    \n",
        "        index_min = np.where(matrix_children[:,7] == dist_min)        \n",
        "        vec_min = matrix_children[index_min[0][0], :].copy()                     \n",
        "                    \n",
        "        best_gen = dist_min_x_gen.index(min(dist_min_x_gen)) + 1\n",
        "        \n",
        "        if grafic == True:   \n",
        "            graficar(mod, iteracion, vec_min,  x_d ,dist_min_x_gen ,dist_min)\n",
        "        \n",
        "\n",
        "    if grafic == False:  \n",
        "        plot_bestGen(mod, vec_min, best_gen)\n",
        "    print(f'Distancia minima registrada: {min(dist_min_x_gen) / 100}')\n",
        "    print('Mejor generacion:', best_gen)\n",
        "    print(f'Mejor ruta (Generacion - {best_gen}):', np.array(matrix[best_gen - 1,:6].copy() / 5, dtype=int))\n",
        "    print(f'Maxima distancia registrada (Generacion - {dist_min_x_gen.index(max(dist_min_x_gen)) + 1}):', max(dist_min_x_gen))     \n"
      ]
    },
    {
      "cell_type": "code",
      "execution_count": 34,
      "metadata": {
        "colab": {
          "base_uri": "https://localhost:8080/",
          "height": 446
        },
        "id": "IL28tnyXGt-G",
        "outputId": "2a80dd23-fc1d-4545-f73f-c29a3c3a4bb4"
      },
      "outputs": [
        {
          "output_type": "display_data",
          "data": {
            "text/plain": [
              "<Figure size 720x360 with 2 Axes>"
            ],
            "image/png": "[encoded data removed]"
          },
          "metadata": {
            "needs_background": "light"
          }
        },
        {
          "output_type": "stream",
          "name": "stdout",
          "text": [
            "Distancia minima registrada: 15.14\n",
            "Mejor generacion: 25\n",
            "Mejor ruta (Generacion - 25): [19  9  4 19 10 16]\n",
            "Maxima distancia registrada (Generacion - 1): 17188\n"
          ]
        }
      ],
      "source": [
        "mod = [8, 25, 4, 45, 10, 17, 35]\n",
        "renglones = 200\n",
        "iteraciones = 40\n",
        "porcentaje_torneo = 3\n",
        "porcentaje_mutacion = 40\n",
        "elit = True\n",
        "plot_dynamic = True\n",
        "\n",
        "run(iteraciones, renglones, mod, porcentaje_torneo, porcentaje_mutacion, elit, plot_dynamic)\n"
      ]
    }
  ],
  "metadata": {
    "kernelspec": {
      "display_name": "int-art",
      "language": "python",
      "name": "python3"
    },
    "language_info": {
      "codemirror_mode": {
        "name": "ipython",
        "version": 3
      },
      "file_extension": ".py",
      "mimetype": "text/x-python",
      "name": "python",
      "nbconvert_exporter": "python",
      "pygments_lexer": "ipython3",
      "version": "3.10.9"
    },
    "orig_nbformat": 4,
    "vscode": {
      "interpreter": {
        "hash": "3cf09872204c714a802b02bd5c787f2ebd5c6dc4b6e146205802208b2c265ed7"
      }
    },
    "colab": {
      "provenance": [],
      "include_colab_link": true
    }
  },
  "nbformat": 4,
  "nbformat_minor": 0
}